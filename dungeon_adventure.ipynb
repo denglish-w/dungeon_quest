{
 "cells": [
  {
   "cell_type": "markdown",
   "id": "54471718",
   "metadata": {},
   "source": [
    "# Dungeon Adventure Game - Instructions\n",
    "\n",
    "In this exercise, you will build a text-based dungeon adventure game in Python.\n",
    "\n",
    "You will apply everything you've learned so far, including:\n",
    "- Variables\n",
    "- Operators\n",
    "- Lists\n",
    "- Dictionaries\n",
    "- Loops\n",
    "- Conditionals\n",
    "- The `random` module\n",
    "\n",
    "Follow the prompts in each section to build your game step by step. By the end, you will have a fully functioning game where the player can explore rooms, search for treasure, avoid traps, and see their final score based on the treasures collected.\n",
    "\n",
    "Complete each section before moving on to the next.\n"
   ]
  },
  {
   "cell_type": "code",
   "execution_count": 1,
   "id": "eee84ad5",
   "metadata": {},
   "outputs": [],
   "source": [
    "# Step 1: Player Setup\n",
    "# Prompt the player for their name.\n",
    "# Set health to 10.\n",
    "# Create an empty list to store their inventory.\n",
    "\n",
    "import random\n",
    "\n",
    "input('Please enter your name here: ')\n",
    "health = 10\n",
    "inventory = []\n"
   ]
  },
  {
   "cell_type": "code",
   "execution_count": 8,
   "id": "3a0aecec",
   "metadata": {},
   "outputs": [],
   "source": [
    "# Step 2: Treasure Dictionary\n",
    "# Create a dictionary of treasures where the keys are treasure names\n",
    "# and the values are the gold value of each treasure.\n",
    "\n",
    "treasures = {\n",
    "    'bone': 0,\n",
    "    'oracle': 50,\n",
    "    'gem stone': 30,\n",
    "    'copper coins': 15,\n",
    "    'silver coins': 30,\n",
    "    'mist of tyne': 100,\n",
    "}"
   ]
  },
  {
   "cell_type": "code",
   "execution_count": null,
   "id": "1a24ddaf",
   "metadata": {},
   "outputs": [
    {
     "name": "stdout",
     "output_type": "stream",
     "text": [
      "You are in room 1\n",
      "\n",
      "Please input the number of the option you would like to choose.\n",
      "You are in room 2\n",
      "\n",
      "Please input the number of the option you would like to choose.\n",
      "You are in room 3\n",
      "\n",
      "Please input the number of the option you would like to choose.\n",
      "You are in room 4\n",
      "\n",
      "Please input the number of the option you would like to choose.\n",
      "You are in room 5\n",
      "\n",
      "Please input the number of the option you would like to choose.\n"
     ]
    }
   ],
   "source": [
    "# Step 3: Game Loop - Moving through 5 rooms\n",
    "# Use a for loop to represent rooms 1 to 5.\n",
    "# In each room, display the current room number and the options:\n",
    "# 1. Search for treasure\n",
    "# 2. Move to next room\n",
    "# 3. Check health and inventory\n",
    "# 4. Quit the game\n",
    "# Make sure to handle each option appropriately.\n",
    "\n",
    "rooms = [1,2,3,4,5]\n",
    "current_room = 0 #shows the current room the user is in\n",
    "\n",
    "for _ in rooms:\n",
    "    current_room = rooms[current_room]\n",
    "    print(f\"You are in room {current_room}\")\n",
    "    choice = input('\\nWhat do you want to do? 1. Search for treasure'\n",
    "          ' 2. Move to the next room'\n",
    "          ' 3. Check health and inventory'\n",
    "          ' 4. Quit the game:' )\n",
    "    if choice not in [1,2,3,4]:\n",
    "        print('\\nPlease input the number of the option you would like to choose.')\n",
    "    elif input == '1':\n",
    "        treasure_search()\n",
    "    elif input == '2': #Move to next room\n",
    "        current_room += 1\n",
    "    elif input == '3':\n",
    "        print(health and inventory)\n",
    "    else:\n",
    "        exit()\n",
    "    \n",
    "        \n",
    "        \n",
    "        \n",
    " \n",
    "        \n",
    "\n",
    "        \n",
    "\n",
    "# Step 4: Implement treasure search\n",
    "# If the player chooses to search, randomly decide if they find treasure or a trap.\n",
    "# If treasure, randomly pick from the treasure dictionary and add to inventory.\n",
    "# If trap, deduct 2 health points and print a message.\n",
    "\n",
    "\n",
    "\n",
    "# Step 5: Check health\n",
    "# If health drops to 0 or below, print a Game Over message and break the loop."
   ]
  },
  {
   "cell_type": "code",
   "execution_count": null,
   "id": "39cc69d2",
   "metadata": {},
   "outputs": [],
   "source": [
    "# Step 6: End of Game Summary\n",
    "# If the player quits or finishes all rooms, calculate the total value of the collected treasures.\n",
    "# Loop through the inventory and sum the gold value using the treasure dictionary.\n",
    "# Print the final health, inventory, and total treasure value.\n"
   ]
  },
  {
   "cell_type": "code",
   "execution_count": null,
   "id": "014a8743",
   "metadata": {},
   "outputs": [],
   "source": []
  }
 ],
 "metadata": {
  "kernelspec": {
   "display_name": "Python 3",
   "language": "python",
   "name": "python3"
  },
  "language_info": {
   "codemirror_mode": {
    "name": "ipython",
    "version": 3
   },
   "file_extension": ".py",
   "mimetype": "text/x-python",
   "name": "python",
   "nbconvert_exporter": "python",
   "pygments_lexer": "ipython3",
   "version": "3.13.5"
  }
 },
 "nbformat": 4,
 "nbformat_minor": 5
}
