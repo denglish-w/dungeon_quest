{
 "cells": [
  {
   "cell_type": "markdown",
   "id": "54471718",
   "metadata": {},
   "source": [
    "# Dungeon Adventure Game - Instructions\n",
    "\n",
    "In this exercise, you will build a text-based dungeon adventure game in Python.\n",
    "\n",
    "You will apply everything you've learned so far, including:\n",
    "- Variables\n",
    "- Operators\n",
    "- Lists\n",
    "- Dictionaries\n",
    "- Loops\n",
    "- Conditionals\n",
    "- The `random` module\n",
    "\n",
    "Follow the prompts in each section to build your game step by step. By the end, you will have a fully functioning game where the player can explore rooms, search for treasure, avoid traps, and see their final score based on the treasures collected.\n",
    "\n",
    "Complete each section before moving on to the next.\n"
   ]
  },
  {
   "cell_type": "code",
   "execution_count": 13,
   "id": "eee84ad5",
   "metadata": {},
   "outputs": [],
   "source": [
    "# Step 1: Player Setup\n",
    "# Prompt the player for their name.\n",
    "# Set health to 10.\n",
    "# Create an empty list to store their inventory.\n",
    "\n",
    "import random\n",
    "\n",
    "input('Please enter your name here: ')\n",
    "health = 10\n",
    "inventory = []\n",
    "treasure_or_trap = ['treasure', 'trap']\n",
    "\n",
    "found_gold = []\n",
    "\n"
   ]
  },
  {
   "cell_type": "code",
   "execution_count": 14,
   "id": "3a0aecec",
   "metadata": {},
   "outputs": [],
   "source": [
    "# Step 2: Treasure Dictionary\n",
    "# Create a dictionary of treasures where the keys are treasure names\n",
    "# and the values are the gold value of each treasure.\n",
    "\n",
    "treasures = {\n",
    "    'bone': 0,\n",
    "    'oracle': 50,\n",
    "    'gem stone': 30,\n",
    "    'copper coins': 15,\n",
    "    'silver coins': 30,\n",
    "    'mist of tyne': 100,\n",
    "}"
   ]
  },
  {
   "cell_type": "code",
   "execution_count": null,
   "id": "1a24ddaf",
   "metadata": {},
   "outputs": [
    {
     "name": "stdout",
     "output_type": "stream",
     "text": [
      "You are in room 1\n",
      "You are in room 2\n",
      "Your current health is 10 and your inventory is []\n",
      "You are in room 2\n",
      "You took damage: Your health is now 9\n",
      "You are in room 2\n",
      "You took damage: Your health is now 8\n",
      "You are in room 2\n",
      "You took damage: Your health is now 7\n",
      "You are in room 2\n"
     ]
    },
    {
     "ename": "AttributeError",
     "evalue": "'tuple' object has no attribute 'keys'",
     "output_type": "error",
     "traceback": [
      "\u001b[31m---------------------------------------------------------------------------\u001b[39m",
      "\u001b[31mAttributeError\u001b[39m                            Traceback (most recent call last)",
      "\u001b[36mCell\u001b[39m\u001b[36m \u001b[39m\u001b[32mIn[15]\u001b[39m\u001b[32m, line 36\u001b[39m\n\u001b[32m     34\u001b[39m found_treasure = random.choice(\u001b[38;5;28mlist\u001b[39m(treasures.items())) \u001b[38;5;66;03m#testing for adding both keys and items to inventory\u001b[39;00m\n\u001b[32m     35\u001b[39m inventory.append(found_treasure)\n\u001b[32m---> \u001b[39m\u001b[32m36\u001b[39m found_gold.append(\u001b[43mfound_treasure\u001b[49m\u001b[43m.\u001b[49m\u001b[43mkeys\u001b[49m())\n\u001b[32m     37\u001b[39m \u001b[38;5;28mprint\u001b[39m(\u001b[33mf\u001b[39m\u001b[33m'\u001b[39m\u001b[33mYou found \u001b[39m\u001b[38;5;132;01m{\u001b[39;00mfound_treasure\u001b[38;5;132;01m}\u001b[39;00m\u001b[33m!\u001b[39m\u001b[33m'\u001b[39m\n\u001b[32m     38\u001b[39m       \u001b[33mf\u001b[39m\u001b[33m'\u001b[39m\u001b[38;5;130;01m\\n\u001b[39;00m\u001b[33m Your inventory is now \u001b[39m\u001b[38;5;132;01m{\u001b[39;00minventory\u001b[38;5;132;01m}\u001b[39;00m\u001b[33m'\u001b[39m)\n\u001b[32m     39\u001b[39m r += \u001b[32m1\u001b[39m\n",
      "\u001b[31mAttributeError\u001b[39m: 'tuple' object has no attribute 'keys'"
     ]
    }
   ],
   "source": [
    "# Step 3: Game Loop - Moving through 5 rooms\n",
    "# Use a for loop to represent rooms 1 to 5.\n",
    "# In each room, display the current room number and the options:\n",
    "# 1. Search for treasure\n",
    "# 2. Move to next room\n",
    "# 3. Check health and inventory\n",
    "# 4. Quit the game\n",
    "# Make sure to handle each option appropriately.\n",
    "\n",
    "options = ['1','2','3','4']\n",
    "r = 1\n",
    "while r <= 5:\n",
    "    print(f\"You are in room {r}\")\n",
    "    choice = input('\\nWhat do you want to do?'\n",
    "          ' 1. Move to the next room'\n",
    "          ' 2. Check health and inventory'\n",
    "          ' 3. Search for treasure'\n",
    "          ' 4. Quit the game:' ).strip()\n",
    "    while choice not in options:\n",
    "        choice = input('What do you want to do: ').strip()\n",
    "    if choice == '1':\n",
    "        r += 1\n",
    "    elif choice == '2':\n",
    "        print(f\"Your current health is {health} and your inventory is {inventory}\")\n",
    "    elif choice == '3':\n",
    "        search_room = random.choice(treasure_or_trap)\n",
    "        if search_room == 'trap':\n",
    "            health -= 1\n",
    "            print(f\"You took damage: Your health is now {health}\")\n",
    "            if health <= 0:\n",
    "                print(\"GAME OVER\")\n",
    "                break\n",
    "        else: \n",
    "            found_treasure, found_value = random.choice(list(treasures.items())) #testing for adding both keys and items to inventory\n",
    "            inventory.append(found_treasure)\n",
    "            found_gold.append(found_value)\n",
    "            print(f'You found {found_treasure}!'\n",
    "                  f'\\n Your inventory is now {inventory}')\n",
    "            r += 1\n",
    "    elif choice == '4':\n",
    "        exit()    \n",
    "    \n",
    "   \n",
    "        \n",
    " \n",
    "        \n",
    "\n",
    "        \n",
    "\n",
    "# Step 4: Implement treasure search\n",
    "# If the player chooses to search, randomly decide if they find treasure or a trap.\n",
    "# If treasure, randomly pick from the treasure dictionary and add to inventory.\n",
    "# If trap, deduct 2 health points and print a message.\n",
    "\n",
    "\n",
    "\n",
    "# Step 5: Check health\n",
    "# If health drops to 0 or below, print a Game Over message and break the loop."
   ]
  },
  {
   "cell_type": "code",
   "execution_count": null,
   "id": "39cc69d2",
   "metadata": {},
   "outputs": [
    {
     "ename": "TypeError",
     "evalue": "unsupported operand type(s) for +: 'int' and 'tuple'",
     "output_type": "error",
     "traceback": [
      "\u001b[31m---------------------------------------------------------------------------\u001b[39m",
      "\u001b[31mTypeError\u001b[39m                                 Traceback (most recent call last)",
      "\u001b[36mCell\u001b[39m\u001b[36m \u001b[39m\u001b[32mIn[11]\u001b[39m\u001b[32m, line 8\u001b[39m\n\u001b[32m      6\u001b[39m \u001b[38;5;28;01mif\u001b[39;00m r >= \u001b[32m5\u001b[39m:\n\u001b[32m      7\u001b[39m    \u001b[38;5;28;01mfor\u001b[39;00m gold \u001b[38;5;129;01min\u001b[39;00m inventory:\n\u001b[32m----> \u001b[39m\u001b[32m8\u001b[39m       total_gold = \u001b[38;5;28;43msum\u001b[39;49m\u001b[43m(\u001b[49m\u001b[43minventory\u001b[49m\u001b[43m[\u001b[49m\u001b[43m:\u001b[49m\u001b[43m:\u001b[49m\u001b[32;43m2\u001b[39;49m\u001b[43m]\u001b[49m\u001b[43m)\u001b[49m\n\u001b[32m      9\u001b[39m       \u001b[38;5;28mprint\u001b[39m(\u001b[33mf\u001b[39m\u001b[33m'\u001b[39m\u001b[33myou have total gold amount \u001b[39m\u001b[38;5;132;01m{\u001b[39;00mtotal_gold\u001b[38;5;132;01m}\u001b[39;00m\u001b[33m'\u001b[39m)\n\u001b[32m     10\u001b[39m exit()\n",
      "\u001b[31mTypeError\u001b[39m: unsupported operand type(s) for +: 'int' and 'tuple'"
     ]
    }
   ],
   "source": [
    "# Step 6: End of Game Summary\n",
    "# If the player quits or finishes all rooms, calculate the total value of the collected treasures.\n",
    "# Loop through the inventory and sum the gold value using the treasure dictionary.\n",
    "# Print the final health, inventory, and total treasure value.\n",
    "\n",
    "if r >= 5:\n",
    "   for gold in inventory:\n",
    "      total_gold = sum(found_gold)\n",
    "      print(f'you have total gold amount {total_gold}')\n",
    "exit()\n"
   ]
  }
 ],
 "metadata": {
  "kernelspec": {
   "display_name": "Python 3",
   "language": "python",
   "name": "python3"
  },
  "language_info": {
   "codemirror_mode": {
    "name": "ipython",
    "version": 3
   },
   "file_extension": ".py",
   "mimetype": "text/x-python",
   "name": "python",
   "nbconvert_exporter": "python",
   "pygments_lexer": "ipython3",
   "version": "3.13.5"
  }
 },
 "nbformat": 4,
 "nbformat_minor": 5
}
